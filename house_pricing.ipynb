{
  "cells": [
    {
      "cell_type": "code",
      "execution_count": null,
      "metadata": {
        "_cell_guid": "b1076dfc-b9ad-4769-8c92-a6c4dae69d19",
        "_uuid": "8f2839f25d086af736a60e9eeb907d3b93b6e0e5",
        "id": "6EbkkfeKA73g",
        "outputId": "92840756-0485-4b2d-8fa4-cc51f83cd747",
        "trusted": true
      },
      "outputs": [
        {
          "name": "stdout",
          "output_type": "stream",
          "text": [
            "/kaggle/input/house-prices-advanced-regression-techniques/train.csv\n",
            "/kaggle/input/house-prices-advanced-regression-techniques/test.csv\n",
            "/kaggle/input/house-prices-advanced-regression-techniques/sample_submission.csv\n",
            "/kaggle/input/house-prices-advanced-regression-techniques/data_description.txt\n"
          ]
        }
      ],
      "source": [
        "import numpy as np\n",
        "import pandas as pd \n",
        "import os\n",
        "for dirname, _, filenames in os.walk('/kaggle/input'):\n",
        "    for filename in filenames:\n",
        "        print(os.path.join(dirname, filename))\n",
        "from sklearn.preprocessing import LabelEncoder\n",
        "import seaborn as sns\n",
        "from sklearn.model_selection import train_test_split \n",
        "from sklearn.tree import DecisionTreeRegressor\n",
        "from sklearn.svm import SVR\n",
        "from sklearn import metrics\n",
        "from sklearn.linear_model import LinearRegression\n",
        "import matplotlib.pyplot as plt"
      ]
    },
    {
      "cell_type": "code",
      "execution_count": null,
      "metadata": {
        "_cell_guid": "79c7e3d0-c299-4dcb-8224-4455121ee9b0",
        "_uuid": "d629ff2d2480ee46fbb7e2d37f6b5fab8052498a",
        "id": "VY8Lgs_ZA73i",
        "outputId": "a6c8e3d4-9fe6-47d5-8cf8-786c0923f6cf",
        "trusted": true
      },
      "outputs": [
        {
          "data": {
            "text/html": [
              "<div>\n",
              "<style scoped>\n",
              "    .dataframe tbody tr th:only-of-type {\n",
              "        vertical-align: middle;\n",
              "    }\n",
              "\n",
              "    .dataframe tbody tr th {\n",
              "        vertical-align: top;\n",
              "    }\n",
              "\n",
              "    .dataframe thead th {\n",
              "        text-align: right;\n",
              "    }\n",
              "</style>\n",
              "<table border=\"1\" class=\"dataframe\">\n",
              "  <thead>\n",
              "    <tr style=\"text-align: right;\">\n",
              "      <th></th>\n",
              "      <th>Id</th>\n",
              "      <th>MSSubClass</th>\n",
              "      <th>MSZoning</th>\n",
              "      <th>LotFrontage</th>\n",
              "      <th>LotArea</th>\n",
              "      <th>Street</th>\n",
              "      <th>Alley</th>\n",
              "      <th>LotShape</th>\n",
              "      <th>LandContour</th>\n",
              "      <th>Utilities</th>\n",
              "      <th>...</th>\n",
              "      <th>PoolArea</th>\n",
              "      <th>PoolQC</th>\n",
              "      <th>Fence</th>\n",
              "      <th>MiscFeature</th>\n",
              "      <th>MiscVal</th>\n",
              "      <th>MoSold</th>\n",
              "      <th>YrSold</th>\n",
              "      <th>SaleType</th>\n",
              "      <th>SaleCondition</th>\n",
              "      <th>SalePrice</th>\n",
              "    </tr>\n",
              "  </thead>\n",
              "  <tbody>\n",
              "    <tr>\n",
              "      <th>0</th>\n",
              "      <td>1</td>\n",
              "      <td>60</td>\n",
              "      <td>RL</td>\n",
              "      <td>65.0</td>\n",
              "      <td>8450</td>\n",
              "      <td>Pave</td>\n",
              "      <td>NaN</td>\n",
              "      <td>Reg</td>\n",
              "      <td>Lvl</td>\n",
              "      <td>AllPub</td>\n",
              "      <td>...</td>\n",
              "      <td>0</td>\n",
              "      <td>NaN</td>\n",
              "      <td>NaN</td>\n",
              "      <td>NaN</td>\n",
              "      <td>0</td>\n",
              "      <td>2</td>\n",
              "      <td>2008</td>\n",
              "      <td>WD</td>\n",
              "      <td>Normal</td>\n",
              "      <td>208500.0</td>\n",
              "    </tr>\n",
              "    <tr>\n",
              "      <th>1</th>\n",
              "      <td>2</td>\n",
              "      <td>20</td>\n",
              "      <td>RL</td>\n",
              "      <td>80.0</td>\n",
              "      <td>9600</td>\n",
              "      <td>Pave</td>\n",
              "      <td>NaN</td>\n",
              "      <td>Reg</td>\n",
              "      <td>Lvl</td>\n",
              "      <td>AllPub</td>\n",
              "      <td>...</td>\n",
              "      <td>0</td>\n",
              "      <td>NaN</td>\n",
              "      <td>NaN</td>\n",
              "      <td>NaN</td>\n",
              "      <td>0</td>\n",
              "      <td>5</td>\n",
              "      <td>2007</td>\n",
              "      <td>WD</td>\n",
              "      <td>Normal</td>\n",
              "      <td>181500.0</td>\n",
              "    </tr>\n",
              "    <tr>\n",
              "      <th>2</th>\n",
              "      <td>3</td>\n",
              "      <td>60</td>\n",
              "      <td>RL</td>\n",
              "      <td>68.0</td>\n",
              "      <td>11250</td>\n",
              "      <td>Pave</td>\n",
              "      <td>NaN</td>\n",
              "      <td>IR1</td>\n",
              "      <td>Lvl</td>\n",
              "      <td>AllPub</td>\n",
              "      <td>...</td>\n",
              "      <td>0</td>\n",
              "      <td>NaN</td>\n",
              "      <td>NaN</td>\n",
              "      <td>NaN</td>\n",
              "      <td>0</td>\n",
              "      <td>9</td>\n",
              "      <td>2008</td>\n",
              "      <td>WD</td>\n",
              "      <td>Normal</td>\n",
              "      <td>223500.0</td>\n",
              "    </tr>\n",
              "    <tr>\n",
              "      <th>3</th>\n",
              "      <td>4</td>\n",
              "      <td>70</td>\n",
              "      <td>RL</td>\n",
              "      <td>60.0</td>\n",
              "      <td>9550</td>\n",
              "      <td>Pave</td>\n",
              "      <td>NaN</td>\n",
              "      <td>IR1</td>\n",
              "      <td>Lvl</td>\n",
              "      <td>AllPub</td>\n",
              "      <td>...</td>\n",
              "      <td>0</td>\n",
              "      <td>NaN</td>\n",
              "      <td>NaN</td>\n",
              "      <td>NaN</td>\n",
              "      <td>0</td>\n",
              "      <td>2</td>\n",
              "      <td>2006</td>\n",
              "      <td>WD</td>\n",
              "      <td>Abnorml</td>\n",
              "      <td>140000.0</td>\n",
              "    </tr>\n",
              "    <tr>\n",
              "      <th>4</th>\n",
              "      <td>5</td>\n",
              "      <td>60</td>\n",
              "      <td>RL</td>\n",
              "      <td>84.0</td>\n",
              "      <td>14260</td>\n",
              "      <td>Pave</td>\n",
              "      <td>NaN</td>\n",
              "      <td>IR1</td>\n",
              "      <td>Lvl</td>\n",
              "      <td>AllPub</td>\n",
              "      <td>...</td>\n",
              "      <td>0</td>\n",
              "      <td>NaN</td>\n",
              "      <td>NaN</td>\n",
              "      <td>NaN</td>\n",
              "      <td>0</td>\n",
              "      <td>12</td>\n",
              "      <td>2008</td>\n",
              "      <td>WD</td>\n",
              "      <td>Normal</td>\n",
              "      <td>250000.0</td>\n",
              "    </tr>\n",
              "  </tbody>\n",
              "</table>\n",
              "<p>5 rows × 81 columns</p>\n",
              "</div>"
            ],
            "text/plain": [
              "   Id  MSSubClass MSZoning  LotFrontage  LotArea Street Alley LotShape  \\\n",
              "0   1          60       RL         65.0     8450   Pave   NaN      Reg   \n",
              "1   2          20       RL         80.0     9600   Pave   NaN      Reg   \n",
              "2   3          60       RL         68.0    11250   Pave   NaN      IR1   \n",
              "3   4          70       RL         60.0     9550   Pave   NaN      IR1   \n",
              "4   5          60       RL         84.0    14260   Pave   NaN      IR1   \n",
              "\n",
              "  LandContour Utilities  ... PoolArea PoolQC Fence MiscFeature MiscVal MoSold  \\\n",
              "0         Lvl    AllPub  ...        0    NaN   NaN         NaN       0      2   \n",
              "1         Lvl    AllPub  ...        0    NaN   NaN         NaN       0      5   \n",
              "2         Lvl    AllPub  ...        0    NaN   NaN         NaN       0      9   \n",
              "3         Lvl    AllPub  ...        0    NaN   NaN         NaN       0      2   \n",
              "4         Lvl    AllPub  ...        0    NaN   NaN         NaN       0     12   \n",
              "\n",
              "  YrSold  SaleType  SaleCondition  SalePrice  \n",
              "0   2008        WD         Normal   208500.0  \n",
              "1   2007        WD         Normal   181500.0  \n",
              "2   2008        WD         Normal   223500.0  \n",
              "3   2006        WD        Abnorml   140000.0  \n",
              "4   2008        WD         Normal   250000.0  \n",
              "\n",
              "[5 rows x 81 columns]"
            ]
          },
          "execution_count": 2,
          "metadata": {},
          "output_type": "execute_result"
        }
      ],
      "source": [
        "test=pd.read_csv('../input/house-prices-advanced-regression-techniques/test.csv')\n",
        "train=pd.read_csv('../input/house-prices-advanced-regression-techniques/train.csv')\n",
        "ntrain = train.shape[0]\n",
        "ntest = test.shape[0]\n",
        "df = pd.concat((train, test)).reset_index(drop=True)\n",
        "df.head()"
      ]
    },
    {
      "cell_type": "code",
      "execution_count": null,
      "metadata": {
        "id": "gPy9go0rA73i",
        "outputId": "da1ab212-ab65-4676-ac33-38d125549703",
        "trusted": true
      },
      "outputs": [
        {
          "data": {
            "text/html": [
              "<div>\n",
              "<style scoped>\n",
              "    .dataframe tbody tr th:only-of-type {\n",
              "        vertical-align: middle;\n",
              "    }\n",
              "\n",
              "    .dataframe tbody tr th {\n",
              "        vertical-align: top;\n",
              "    }\n",
              "\n",
              "    .dataframe thead th {\n",
              "        text-align: right;\n",
              "    }\n",
              "</style>\n",
              "<table border=\"1\" class=\"dataframe\">\n",
              "  <thead>\n",
              "    <tr style=\"text-align: right;\">\n",
              "      <th></th>\n",
              "      <th>Missing Ratio</th>\n",
              "    </tr>\n",
              "  </thead>\n",
              "  <tbody>\n",
              "    <tr>\n",
              "      <th>PoolQC</th>\n",
              "      <td>99.657417</td>\n",
              "    </tr>\n",
              "    <tr>\n",
              "      <th>MiscFeature</th>\n",
              "      <td>96.402878</td>\n",
              "    </tr>\n",
              "    <tr>\n",
              "      <th>Alley</th>\n",
              "      <td>93.216855</td>\n",
              "    </tr>\n",
              "    <tr>\n",
              "      <th>Fence</th>\n",
              "      <td>80.438506</td>\n",
              "    </tr>\n",
              "    <tr>\n",
              "      <th>SalePrice</th>\n",
              "      <td>49.982871</td>\n",
              "    </tr>\n",
              "    <tr>\n",
              "      <th>FireplaceQu</th>\n",
              "      <td>48.646797</td>\n",
              "    </tr>\n",
              "    <tr>\n",
              "      <th>LotFrontage</th>\n",
              "      <td>16.649538</td>\n",
              "    </tr>\n",
              "    <tr>\n",
              "      <th>GarageYrBlt</th>\n",
              "      <td>5.447071</td>\n",
              "    </tr>\n",
              "    <tr>\n",
              "      <th>GarageFinish</th>\n",
              "      <td>5.447071</td>\n",
              "    </tr>\n",
              "    <tr>\n",
              "      <th>GarageQual</th>\n",
              "      <td>5.447071</td>\n",
              "    </tr>\n",
              "    <tr>\n",
              "      <th>GarageCond</th>\n",
              "      <td>5.447071</td>\n",
              "    </tr>\n",
              "    <tr>\n",
              "      <th>GarageType</th>\n",
              "      <td>5.378554</td>\n",
              "    </tr>\n",
              "    <tr>\n",
              "      <th>BsmtCond</th>\n",
              "      <td>2.809181</td>\n",
              "    </tr>\n",
              "    <tr>\n",
              "      <th>BsmtExposure</th>\n",
              "      <td>2.809181</td>\n",
              "    </tr>\n",
              "    <tr>\n",
              "      <th>BsmtQual</th>\n",
              "      <td>2.774923</td>\n",
              "    </tr>\n",
              "    <tr>\n",
              "      <th>BsmtFinType2</th>\n",
              "      <td>2.740665</td>\n",
              "    </tr>\n",
              "    <tr>\n",
              "      <th>BsmtFinType1</th>\n",
              "      <td>2.706406</td>\n",
              "    </tr>\n",
              "    <tr>\n",
              "      <th>MasVnrType</th>\n",
              "      <td>0.822199</td>\n",
              "    </tr>\n",
              "    <tr>\n",
              "      <th>MasVnrArea</th>\n",
              "      <td>0.787941</td>\n",
              "    </tr>\n",
              "    <tr>\n",
              "      <th>MSZoning</th>\n",
              "      <td>0.137033</td>\n",
              "    </tr>\n",
              "    <tr>\n",
              "      <th>BsmtFullBath</th>\n",
              "      <td>0.068517</td>\n",
              "    </tr>\n",
              "    <tr>\n",
              "      <th>BsmtHalfBath</th>\n",
              "      <td>0.068517</td>\n",
              "    </tr>\n",
              "    <tr>\n",
              "      <th>Functional</th>\n",
              "      <td>0.068517</td>\n",
              "    </tr>\n",
              "    <tr>\n",
              "      <th>Utilities</th>\n",
              "      <td>0.068517</td>\n",
              "    </tr>\n",
              "    <tr>\n",
              "      <th>BsmtFinSF2</th>\n",
              "      <td>0.034258</td>\n",
              "    </tr>\n",
              "    <tr>\n",
              "      <th>BsmtUnfSF</th>\n",
              "      <td>0.034258</td>\n",
              "    </tr>\n",
              "    <tr>\n",
              "      <th>BsmtFinSF1</th>\n",
              "      <td>0.034258</td>\n",
              "    </tr>\n",
              "    <tr>\n",
              "      <th>TotalBsmtSF</th>\n",
              "      <td>0.034258</td>\n",
              "    </tr>\n",
              "    <tr>\n",
              "      <th>SaleType</th>\n",
              "      <td>0.034258</td>\n",
              "    </tr>\n",
              "    <tr>\n",
              "      <th>KitchenQual</th>\n",
              "      <td>0.034258</td>\n",
              "    </tr>\n",
              "    <tr>\n",
              "      <th>Exterior2nd</th>\n",
              "      <td>0.034258</td>\n",
              "    </tr>\n",
              "    <tr>\n",
              "      <th>Exterior1st</th>\n",
              "      <td>0.034258</td>\n",
              "    </tr>\n",
              "    <tr>\n",
              "      <th>GarageCars</th>\n",
              "      <td>0.034258</td>\n",
              "    </tr>\n",
              "    <tr>\n",
              "      <th>GarageArea</th>\n",
              "      <td>0.034258</td>\n",
              "    </tr>\n",
              "    <tr>\n",
              "      <th>Electrical</th>\n",
              "      <td>0.034258</td>\n",
              "    </tr>\n",
              "  </tbody>\n",
              "</table>\n",
              "</div>"
            ],
            "text/plain": [
              "              Missing Ratio\n",
              "PoolQC            99.657417\n",
              "MiscFeature       96.402878\n",
              "Alley             93.216855\n",
              "Fence             80.438506\n",
              "SalePrice         49.982871\n",
              "FireplaceQu       48.646797\n",
              "LotFrontage       16.649538\n",
              "GarageYrBlt        5.447071\n",
              "GarageFinish       5.447071\n",
              "GarageQual         5.447071\n",
              "GarageCond         5.447071\n",
              "GarageType         5.378554\n",
              "BsmtCond           2.809181\n",
              "BsmtExposure       2.809181\n",
              "BsmtQual           2.774923\n",
              "BsmtFinType2       2.740665\n",
              "BsmtFinType1       2.706406\n",
              "MasVnrType         0.822199\n",
              "MasVnrArea         0.787941\n",
              "MSZoning           0.137033\n",
              "BsmtFullBath       0.068517\n",
              "BsmtHalfBath       0.068517\n",
              "Functional         0.068517\n",
              "Utilities          0.068517\n",
              "BsmtFinSF2         0.034258\n",
              "BsmtUnfSF          0.034258\n",
              "BsmtFinSF1         0.034258\n",
              "TotalBsmtSF        0.034258\n",
              "SaleType           0.034258\n",
              "KitchenQual        0.034258\n",
              "Exterior2nd        0.034258\n",
              "Exterior1st        0.034258\n",
              "GarageCars         0.034258\n",
              "GarageArea         0.034258\n",
              "Electrical         0.034258"
            ]
          },
          "execution_count": 3,
          "metadata": {},
          "output_type": "execute_result"
        }
      ],
      "source": [
        "temp = (df.isnull().sum() / len(df)) * 100\n",
        "temp = temp.drop(temp[temp == 0].index).sort_values(ascending=False)\n",
        "missing_data = pd.DataFrame({'Missing Ratio' :temp})\n",
        "missing_data"
      ]
    },
    {
      "cell_type": "markdown",
      "metadata": {
        "id": "0GdhlJm4A73j"
      },
      "source": [
        "## Missing Data"
      ]
    },
    {
      "cell_type": "code",
      "execution_count": null,
      "metadata": {
        "id": "x7i4-cAPA73j",
        "trusted": true
      },
      "outputs": [],
      "source": [
        "df.drop(['Id','PoolQC','MiscFeature','Alley','FireplaceQu','Utilities'], axis=1, inplace=True)\n",
        "\n",
        "for col in ('GarageType', 'GarageFinish', 'GarageQual', 'GarageCond','Fence','MSSubClass',\n",
        "           'BsmtQual', 'BsmtCond', 'BsmtExposure', 'BsmtFinType1', 'BsmtFinType2','MasVnrType'):\n",
        "    df[col] = df[col].fillna('None')\n",
        "\n",
        "for col in ('GarageYrBlt', 'GarageArea', 'GarageCars','BsmtFinSF1', 'BsmtFinSF2', \n",
        "            'BsmtUnfSF','TotalBsmtSF', 'BsmtFullBath', 'BsmtHalfBath','MasVnrArea'):\n",
        "    df[col] = df[col].fillna(0)\n",
        "    \n",
        "for col in ('Electrical','MSZoning','KitchenQual','Exterior1st','Exterior2nd','SaleType'):\n",
        "    df[col] = df[col].fillna(df[col].mode()[0])\n",
        "\n",
        "for col in ('YrSold', 'MoSold','OverallCond'):\n",
        "    df[col] = df[col].astype(str)\n",
        "    \n",
        "df[\"Functional\"] = df[\"Functional\"].fillna(\"Typ\")\n",
        "\n",
        "df[\"LotFrontage\"] = df.groupby(\"Neighborhood\")[\"LotFrontage\"].transform(lambda x: x.fillna(x.median()))"
      ]
    },
    {
      "cell_type": "code",
      "execution_count": null,
      "metadata": {
        "id": "lkIn-YsAA73k",
        "outputId": "9491bc75-0747-4db8-9960-6adb9037183f",
        "trusted": true
      },
      "outputs": [
        {
          "data": {
            "text/html": [
              "<div>\n",
              "<style scoped>\n",
              "    .dataframe tbody tr th:only-of-type {\n",
              "        vertical-align: middle;\n",
              "    }\n",
              "\n",
              "    .dataframe tbody tr th {\n",
              "        vertical-align: top;\n",
              "    }\n",
              "\n",
              "    .dataframe thead th {\n",
              "        text-align: right;\n",
              "    }\n",
              "</style>\n",
              "<table border=\"1\" class=\"dataframe\">\n",
              "  <thead>\n",
              "    <tr style=\"text-align: right;\">\n",
              "      <th></th>\n",
              "      <th>Missing Ratio</th>\n",
              "    </tr>\n",
              "  </thead>\n",
              "  <tbody>\n",
              "    <tr>\n",
              "      <th>SalePrice</th>\n",
              "      <td>49.982871</td>\n",
              "    </tr>\n",
              "  </tbody>\n",
              "</table>\n",
              "</div>"
            ],
            "text/plain": [
              "           Missing Ratio\n",
              "SalePrice      49.982871"
            ]
          },
          "execution_count": 5,
          "metadata": {},
          "output_type": "execute_result"
        }
      ],
      "source": [
        "temp = (df.isnull().sum() / len(df)) * 100\n",
        "temp = temp.drop(temp[temp == 0].index).sort_values(ascending=False)\n",
        "missing_data = pd.DataFrame({'Missing Ratio' :temp})\n",
        "missing_data"
      ]
    },
    {
      "cell_type": "markdown",
      "metadata": {
        "id": "DEdqW5RdA73l"
      },
      "source": [
        "### TotalSF is new feature that is the total squarefoot of the home. I am using this because generally, the more liveable space you have, the higher the cost. "
      ]
    },
    {
      "cell_type": "code",
      "execution_count": null,
      "metadata": {
        "id": "rW0j4caIA73l",
        "trusted": true
      },
      "outputs": [],
      "source": [
        "df['TotalSF'] = df['TotalBsmtSF'] + df['GrLivArea']\n",
        "df.drop(['TotalBsmtSF','GrLivArea'], axis=1, inplace=True)"
      ]
    },
    {
      "cell_type": "markdown",
      "metadata": {
        "id": "uk3UuxW_A73m"
      },
      "source": [
        "### TotalSF_Log is the log of TotalSF. I did this because it was highly skewed."
      ]
    },
    {
      "cell_type": "code",
      "execution_count": null,
      "metadata": {
        "id": "dpUKvqiKA73m",
        "outputId": "027db314-2033-4452-bd3f-4a462252ab7d",
        "trusted": true
      },
      "outputs": [
        {
          "name": "stdout",
          "output_type": "stream",
          "text": [
            "Skewness: 1.511934\n"
          ]
        },
        {
          "data": {
            "image/png": "[encoded data removed]",
            "text/plain": [
              "<Figure size 432x288 with 1 Axes>"
            ]
          },
          "metadata": {
            "needs_background": "light"
          },
          "output_type": "display_data"
        }
      ],
      "source": [
        "sns.distplot(df['TotalSF']);\n",
        "print(\"Skewness: %f\" % df['TotalSF'].skew())"
      ]
    },
    {
      "cell_type": "code",
      "execution_count": null,
      "metadata": {
        "id": "rl10eKdSA73n",
        "outputId": "af2521ce-88a4-4364-ee41-00eded15f4f6",
        "trusted": true
      },
      "outputs": [
        {
          "name": "stdout",
          "output_type": "stream",
          "text": [
            "Skewness: -0.360364\n"
          ]
        },
        {
          "data": {
            "image/png": "[encoded data removed]",
            "text/plain": [
              "<Figure size 432x288 with 1 Axes>"
            ]
          },
          "metadata": {
            "needs_background": "light"
          },
          "output_type": "display_data"
        }
      ],
      "source": [
        "df['TotalSF_Log'] = np.log(df['TotalSF'])\n",
        "sns.distplot(df['TotalSF_Log']);\n",
        "print(\"Skewness: %f\" % df['TotalSF_Log'].skew())\n",
        "df.drop(['TotalSF'], axis=1, inplace=True)"
      ]
    },
    {
      "cell_type": "markdown",
      "metadata": {
        "id": "ddODFoWbA73n"
      },
      "source": [
        "### SoldAge is a new feature that is the age of the building. I chose this because the higher this number, the less valuable the building is. "
      ]
    },
    {
      "cell_type": "code",
      "execution_count": null,
      "metadata": {
        "id": "ZWHEiftSA73o",
        "trusted": true
      },
      "outputs": [],
      "source": [
        "df[\"SoldAge\"] = df[\"YrSold\"].astype(int) - df[\"YearBuilt\"] \n",
        "df.drop(['YrSold'], axis=1, inplace=True)"
      ]
    },
    {
      "cell_type": "markdown",
      "metadata": {
        "id": "v8T7iJbZA73o"
      },
      "source": [
        "### TotalBath is a new feature that has the total number of bathrooms in the building. The more bathrooms you have, the more liveable space you have, which means cost is higher."
      ]
    },
    {
      "cell_type": "code",
      "execution_count": null,
      "metadata": {
        "id": "cyKbxnuJA73o",
        "trusted": true
      },
      "outputs": [],
      "source": [
        "df['TotalBath']=0.5*df['HalfBath'] + df['FullBath'] + 0.5*df['BsmtHalfBath'] + df['BsmtFullBath']\n",
        "df.drop(['HalfBath','FullBath','BsmtHalfBath','BsmtFullBath'], axis=1, inplace=True)"
      ]
    },
    {
      "cell_type": "markdown",
      "metadata": {
        "id": "GluC2OkJA73p"
      },
      "source": [
        "### Remodeled is a new feature that states whether a building as been remodeled or not. Generally, if a building gets remodeled, it is because the seller wants to sell the building for higher."
      ]
    },
    {
      "cell_type": "code",
      "execution_count": null,
      "metadata": {
        "id": "GbnlxXHYA73p",
        "trusted": true
      },
      "outputs": [],
      "source": [
        "df['Remodeled']= np.where((df['YearRemodAdd']-df['YearBuilt']) != 0,1,0) \n",
        "df.drop(['YearRemodAdd','YearBuilt'], axis=1, inplace=True)"
      ]
    },
    {
      "cell_type": "markdown",
      "metadata": {
        "id": "iYyGvtoNA73p"
      },
      "source": [
        "### SalePrice_Log is the log of SalePrice. I did this because it was highly skewed."
      ]
    },
    {
      "cell_type": "code",
      "execution_count": null,
      "metadata": {
        "id": "c0SQMe5ZA73q",
        "outputId": "84659798-41df-486d-863c-b732b50bacc5",
        "trusted": true
      },
      "outputs": [
        {
          "name": "stdout",
          "output_type": "stream",
          "text": [
            "Skewness: 1.882876\n"
          ]
        },
        {
          "data": {
            "image/png": "[encoded data removed]",
            "text/plain": [
              "<Figure size 432x288 with 1 Axes>"
            ]
          },
          "metadata": {
            "needs_background": "light"
          },
          "output_type": "display_data"
        }
      ],
      "source": [
        "sns.distplot(df['SalePrice']);\n",
        "print(\"Skewness: %f\" % df['SalePrice'].skew())"
      ]
    },
    {
      "cell_type": "code",
      "execution_count": null,
      "metadata": {
        "id": "gI8WsT64A73q",
        "outputId": "3a071cd4-11e1-4557-c77f-44e06b5c5446",
        "trusted": true
      },
      "outputs": [
        {
          "name": "stdout",
          "output_type": "stream",
          "text": [
            "Skewness: 0.121335\n"
          ]
        },
        {
          "data": {
            "image/png": "[encoded data removed]",
            "text/plain": [
              "<Figure size 432x288 with 1 Axes>"
            ]
          },
          "metadata": {
            "needs_background": "light"
          },
          "output_type": "display_data"
        }
      ],
      "source": [
        "df['SalePrice_Log'] = np.log(df['SalePrice'])\n",
        "sns.distplot(df['SalePrice_Log']);\n",
        "print(\"Skewness: %f\" % df['SalePrice_Log'].skew())\n",
        "df.drop(['SalePrice'], axis=1, inplace=True)"
      ]
    },
    {
      "cell_type": "markdown",
      "metadata": {
        "id": "YdKQ_HuSA73q"
      },
      "source": [
        "### MSSubClass_Log is the log of MSSubClass. I did this because it was highly skewed."
      ]
    },
    {
      "cell_type": "code",
      "execution_count": null,
      "metadata": {
        "id": "wLN9tVDOA73q",
        "outputId": "64313888-487b-4269-b2f3-536071ae5cd7",
        "trusted": true
      },
      "outputs": [
        {
          "name": "stdout",
          "output_type": "stream",
          "text": [
            "Skewness: 1.376165\n"
          ]
        },
        {
          "data": {
            "image/png": "[encoded data removed]",
            "text/plain": [
              "<Figure size 432x288 with 1 Axes>"
            ]
          },
          "metadata": {
            "needs_background": "light"
          },
          "output_type": "display_data"
        }
      ],
      "source": [
        "sns.distplot(df['MSSubClass']);\n",
        "print(\"Skewness: %f\" % df['MSSubClass'].skew())"
      ]
    },
    {
      "cell_type": "code",
      "execution_count": null,
      "metadata": {
        "id": "C34SODWMA73r",
        "outputId": "f385527c-7cf6-489d-cb27-640a021f249d",
        "trusted": true
      },
      "outputs": [
        {
          "name": "stdout",
          "output_type": "stream",
          "text": [
            "Skewness: 0.229245\n"
          ]
        },
        {
          "data": {
            "image/png": "[encoded data removed]",
            "text/plain": [
              "<Figure size 432x288 with 1 Axes>"
            ]
          },
          "metadata": {
            "needs_background": "light"
          },
          "output_type": "display_data"
        }
      ],
      "source": [
        "df['MSSubClass_Log'] = np.log(df['MSSubClass'])\n",
        "sns.distplot(df['MSSubClass_Log']);\n",
        "print(\"Skewness: %f\" % df['MSSubClass_Log'].skew())\n",
        "df.drop(['MSSubClass'], axis=1, inplace=True)"
      ]
    },
    {
      "cell_type": "markdown",
      "metadata": {
        "id": "T9xBmDTJA73r"
      },
      "source": [
        "## Model\n",
        "\n",
        "### I used this chart: \n",
        "![image.png](attachment:image.png)\n",
        "\n",
        "\n",
        "### and this notebook: https://www.kaggle.com/pmarcelino/comprehensive-data-exploration-with-python\n",
        "### to choose the 10 features"
      ]
    },
    {
      "cell_type": "markdown",
      "metadata": {
        "id": "KGdfrlJsA73r"
      },
      "source": [
        "I really do not remember nor can I find where this chart came from. All I know it was from a Kaggle submission."
      ]
    },
    {
      "cell_type": "markdown",
      "metadata": {
        "id": "HDvdsYTgA73s"
      },
      "source": [
        "## Features Chosen\n",
        "### From dataset\n",
        "'OverallQual'\n",
        "'GarageCars'\n",
        "'Neighborhood'\n",
        "'ExterQual'\n",
        "'KitchenQual'\n",
        "\n",
        "### Created\n",
        "'TotalSF_Log'\n",
        "'TotalBath'\n",
        "'SoldAge'\n",
        "'MSSubClass_Log'\n",
        "'Remodeled'"
      ]
    },
    {
      "cell_type": "markdown",
      "metadata": {
        "id": "1gFCDgG2A73s"
      },
      "source": [
        "I chose to include those five features from the dataset because the chart above and multiple Kaggle notebooks conclude that those five are highly correlated to the sale price."
      ]
    },
    {
      "cell_type": "code",
      "execution_count": null,
      "metadata": {
        "id": "VLj4W5NaA73s",
        "outputId": "7f6df46c-49dd-49d9-f7fa-707f000f4994",
        "trusted": true
      },
      "outputs": [
        {
          "data": {
            "text/html": [
              "<div>\n",
              "<style scoped>\n",
              "    .dataframe tbody tr th:only-of-type {\n",
              "        vertical-align: middle;\n",
              "    }\n",
              "\n",
              "    .dataframe tbody tr th {\n",
              "        vertical-align: top;\n",
              "    }\n",
              "\n",
              "    .dataframe thead th {\n",
              "        text-align: right;\n",
              "    }\n",
              "</style>\n",
              "<table border=\"1\" class=\"dataframe\">\n",
              "  <thead>\n",
              "    <tr style=\"text-align: right;\">\n",
              "      <th></th>\n",
              "      <th>OverallQual</th>\n",
              "      <th>GarageCars</th>\n",
              "      <th>Neighborhood</th>\n",
              "      <th>ExterQual</th>\n",
              "      <th>KitchenQual</th>\n",
              "      <th>TotalSF_Log</th>\n",
              "      <th>TotalBath</th>\n",
              "      <th>SoldAge</th>\n",
              "      <th>MSSubClass_Log</th>\n",
              "      <th>Remodeled</th>\n",
              "      <th>SalePrice_Log</th>\n",
              "    </tr>\n",
              "  </thead>\n",
              "  <tbody>\n",
              "    <tr>\n",
              "      <th>0</th>\n",
              "      <td>7</td>\n",
              "      <td>2.0</td>\n",
              "      <td>5</td>\n",
              "      <td>2</td>\n",
              "      <td>2</td>\n",
              "      <td>7.850104</td>\n",
              "      <td>3.5</td>\n",
              "      <td>5</td>\n",
              "      <td>4.094345</td>\n",
              "      <td>0</td>\n",
              "      <td>12.247694</td>\n",
              "    </tr>\n",
              "    <tr>\n",
              "      <th>1</th>\n",
              "      <td>6</td>\n",
              "      <td>2.0</td>\n",
              "      <td>24</td>\n",
              "      <td>3</td>\n",
              "      <td>3</td>\n",
              "      <td>7.833600</td>\n",
              "      <td>2.5</td>\n",
              "      <td>31</td>\n",
              "      <td>2.995732</td>\n",
              "      <td>0</td>\n",
              "      <td>12.109011</td>\n",
              "    </tr>\n",
              "    <tr>\n",
              "      <th>2</th>\n",
              "      <td>7</td>\n",
              "      <td>2.0</td>\n",
              "      <td>5</td>\n",
              "      <td>2</td>\n",
              "      <td>2</td>\n",
              "      <td>7.903227</td>\n",
              "      <td>3.5</td>\n",
              "      <td>7</td>\n",
              "      <td>4.094345</td>\n",
              "      <td>1</td>\n",
              "      <td>12.317167</td>\n",
              "    </tr>\n",
              "    <tr>\n",
              "      <th>3</th>\n",
              "      <td>7</td>\n",
              "      <td>3.0</td>\n",
              "      <td>6</td>\n",
              "      <td>3</td>\n",
              "      <td>2</td>\n",
              "      <td>7.813187</td>\n",
              "      <td>2.0</td>\n",
              "      <td>91</td>\n",
              "      <td>4.248495</td>\n",
              "      <td>1</td>\n",
              "      <td>11.849398</td>\n",
              "    </tr>\n",
              "    <tr>\n",
              "      <th>4</th>\n",
              "      <td>8</td>\n",
              "      <td>3.0</td>\n",
              "      <td>15</td>\n",
              "      <td>2</td>\n",
              "      <td>2</td>\n",
              "      <td>8.114624</td>\n",
              "      <td>3.5</td>\n",
              "      <td>8</td>\n",
              "      <td>4.094345</td>\n",
              "      <td>0</td>\n",
              "      <td>12.429216</td>\n",
              "    </tr>\n",
              "  </tbody>\n",
              "</table>\n",
              "</div>"
            ],
            "text/plain": [
              "   OverallQual  GarageCars  Neighborhood  ExterQual  KitchenQual  TotalSF_Log  \\\n",
              "0            7         2.0             5          2            2     7.850104   \n",
              "1            6         2.0            24          3            3     7.833600   \n",
              "2            7         2.0             5          2            2     7.903227   \n",
              "3            7         3.0             6          3            2     7.813187   \n",
              "4            8         3.0            15          2            2     8.114624   \n",
              "\n",
              "   TotalBath  SoldAge  MSSubClass_Log  Remodeled  SalePrice_Log  \n",
              "0        3.5        5        4.094345          0      12.247694  \n",
              "1        2.5       31        2.995732          0      12.109011  \n",
              "2        3.5        7        4.094345          1      12.317167  \n",
              "3        2.0       91        4.248495          1      11.849398  \n",
              "4        3.5        8        4.094345          0      12.429216  "
            ]
          },
          "execution_count": 16,
          "metadata": {},
          "output_type": "execute_result"
        }
      ],
      "source": [
        "col=['OverallQual',\n",
        "'GarageCars',\n",
        "'Neighborhood',\n",
        "'ExterQual',\n",
        "'KitchenQual',\n",
        "'TotalSF_Log',\n",
        "'TotalBath',\n",
        "'SoldAge',\n",
        "'MSSubClass_Log',\n",
        "'Remodeled',\n",
        "'SalePrice_Log']\n",
        "labelencoder = LabelEncoder()\n",
        "train = df[:ntrain]\n",
        "test = df[ntrain:]\n",
        "train=train[col]\n",
        "test=test[col]\n",
        "for i in ['Neighborhood','ExterQual','KitchenQual']:\n",
        "    train[i]=labelencoder.fit_transform(train[i])\n",
        "    test[i]=labelencoder.fit_transform(test[i])\n",
        "test.drop('SalePrice_Log',1,inplace=True)\n",
        "train.head()"
      ]
    },
    {
      "cell_type": "markdown",
      "metadata": {
        "id": "QGdN3749A73s"
      },
      "source": [
        "## SVR"
      ]
    },
    {
      "cell_type": "code",
      "execution_count": null,
      "metadata": {
        "id": "yxX77gaAA73s",
        "outputId": "1ca86a12-879e-417e-ffec-b504fcf3aa4f",
        "trusted": true
      },
      "outputs": [
        {
          "name": "stdout",
          "output_type": "stream",
          "text": [
            "0.8001782971514625\n",
            "0.5798434090274847\n",
            "0.7993711256674261\n",
            "-6743.535308947552\n"
          ]
        }
      ],
      "source": [
        "y = np.array(train['SalePrice_Log'])\n",
        "X= np.array(train.drop(['SalePrice_Log'],1))\n",
        "\n",
        "X_train, X_test, y_train, y_test = train_test_split(X, y, test_size=0.2,random_state=0)\n",
        "svrs = [SVR(kernel='linear', gamma='scale'), SVR(kernel='poly', gamma='scale'), SVR(kernel='rbf', gamma='scale'),\n",
        "       SVR(kernel='sigmoid', gamma='scale')]\n",
        "for model in svrs:\n",
        "    model.fit(X_train,y_train)\n",
        "    print(model.score(X_test, y_test))"
      ]
    },
    {
      "cell_type": "code",
      "execution_count": null,
      "metadata": {
        "id": "w85iBp-VA73t",
        "outputId": "0e09b19d-ab5a-42ab-838a-b3353b137f89",
        "trusted": true
      },
      "outputs": [
        {
          "name": "stdout",
          "output_type": "stream",
          "text": [
            "0.8001782971514625\n",
            "0.7659353747755555\n"
          ]
        }
      ],
      "source": [
        "svrs = [SVR(kernel='linear', gamma='auto'), SVR(kernel='rbf', gamma='auto')]\n",
        "for model in svrs:\n",
        "    model.fit(X_train,y_train)\n",
        "    print(model.score(X_test, y_test))"
      ]
    },
    {
      "cell_type": "code",
      "execution_count": null,
      "metadata": {
        "id": "rfSttt_9A73t",
        "outputId": "7562654c-6300-474b-9a7e-b368fcbb7597",
        "trusted": true
      },
      "outputs": [
        {
          "name": "stdout",
          "output_type": "stream",
          "text": [
            "0.8001782971514625\n"
          ]
        }
      ],
      "source": [
        "model=SVR(kernel='linear', gamma='scale',epsilon=0.1)\n",
        "model.fit(X_train,y_train)\n",
        "print(model.score(X_test, y_test))"
      ]
    },
    {
      "cell_type": "code",
      "execution_count": null,
      "metadata": {
        "id": "_amG-tSzA73t",
        "outputId": "d58d389b-98ab-46c5-e9a6-b65e30a53403",
        "trusted": true
      },
      "outputs": [
        {
          "name": "stdout",
          "output_type": "stream",
          "text": [
            "0.8069342837812593\n"
          ]
        }
      ],
      "source": [
        "model=SVR(kernel='linear', gamma='scale',epsilon=0.00001)\n",
        "model.fit(X_train,y_train)\n",
        "print(model.score(X_test, y_test))"
      ]
    },
    {
      "cell_type": "code",
      "execution_count": null,
      "metadata": {
        "id": "LqqFr6M3A73u",
        "outputId": "1a35218c-0611-4f75-e732-34cfc5229612",
        "trusted": true
      },
      "outputs": [
        {
          "name": "stdout",
          "output_type": "stream",
          "text": [
            "0.807044833887308\n"
          ]
        }
      ],
      "source": [
        "model=SVR(kernel='linear', gamma='scale',epsilon=0.0000000000000001)\n",
        "model.fit(X_train,y_train)\n",
        "print(model.score(X_test, y_test))"
      ]
    },
    {
      "cell_type": "markdown",
      "metadata": {
        "id": "U-KaKqmVA73u"
      },
      "source": [
        "## Linear Reg, Decision Tree Reg, SVR"
      ]
    },
    {
      "cell_type": "code",
      "execution_count": null,
      "metadata": {
        "id": "FZ9A6ChvA73u",
        "trusted": true
      },
      "outputs": [],
      "source": [
        "def modelsR(X_train, X_test, y_train, y_test):\n",
        "    print('LinearRegression')\n",
        "    regressor = LinearRegression()  \n",
        "    regressor.fit(X_train, y_train)\n",
        "    y_pred = regressor.predict(X_test)\n",
        "    print('Mean Absolute Error:', metrics.mean_absolute_error(y_test, y_pred))  \n",
        "    print('Mean Squared Error:', metrics.mean_squared_error(y_test, y_pred))  \n",
        "    print('Root Mean Squared Error:', np.sqrt(metrics.mean_squared_error(y_test, y_pred)))\n",
        "    print('R-squared Error:', metrics.r2_score(y_test, y_pred))\n",
        "    plt.figure(0)\n",
        "    plt.scatter(y_test,y_pred)\n",
        "    plt.xlabel('Real', fontsize=12)\n",
        "    plt.ylabel('Pred', fontsize=12)\n",
        "    \n",
        "    \n",
        "    print('\\nDecisionTreeRegressor')\n",
        "    regressor = DecisionTreeRegressor()\n",
        "    regressor.fit(X_train,y_train)\n",
        "    y_pred = regressor.predict(X_test)\n",
        "    print('R-squared Error: ',regressor.score(X_test, y_test))\n",
        "    plt.figure(1)\n",
        "    plt.scatter(y_test,y_pred)\n",
        "    plt.xlabel('Real', fontsize=12)\n",
        "    plt.ylabel('Pred', fontsize=12)\n",
        "    \n",
        "    print('\\nSVM')\n",
        "    model=SVR(kernel='linear', gamma='scale',epsilon=0.0000000000000001)\n",
        "    model.fit(X_train,y_train)\n",
        "    y_pred = model.predict(X_test)\n",
        "    print(model.score(X_test, y_test))\n",
        "    plt.figure(2)\n",
        "    plt.scatter(y_test,y_pred)\n",
        "    plt.xlabel('Real', fontsize=12)\n",
        "    plt.ylabel('Pred', fontsize=12)"
      ]
    },
    {
      "cell_type": "code",
      "execution_count": null,
      "metadata": {
        "id": "PiIkLn4VA73u",
        "outputId": "71e92ae5-d117-4759-bdd3-fc97ecc90659",
        "trusted": true
      },
      "outputs": [
        {
          "name": "stdout",
          "output_type": "stream",
          "text": [
            "LinearRegression\n",
            "Mean Absolute Error: 0.11842028092980085\n",
            "Mean Squared Error: 0.030482129642932874\n",
            "Root Mean Squared Error: 0.1745913217858576\n",
            "R-squared Error: 0.798664719439327\n",
            "DecisionTreeRegressor\n",
            "R-squared Error:  0.7553049306747567\n",
            "SVM\n",
            "0.807044833887308\n"
          ]
        }
      ],
      "source": [
        "modelsR(X_train, X_test, y_train, y_test)"
      ]
    },
    {
      "cell_type": "code",
      "execution_count": null,
      "metadata": {
        "id": "Rqnpx4I5A73v",
        "outputId": "2896a77d-39cc-44c3-bd6c-1cb26dc2e47d",
        "trusted": true
      },
      "outputs": [
        {
          "name": "stdout",
          "output_type": "stream",
          "text": [
            "LinearRegression\n",
            "Mean Absolute Error: 0.11270778989259678\n",
            "Mean Squared Error: 0.026802381189955864\n",
            "Root Mean Squared Error: 0.16371432799225566\n",
            "R-squared Error: 0.8265343063477129\n",
            "DecisionTreeRegressor\n",
            "R-squared Error:  0.7445285519244591\n",
            "SVM\n",
            "0.8326315374028255\n"
          ]
        }
      ],
      "source": [
        "X_train, X_test, y_train, y_test = train_test_split(X, y, test_size=0.3,random_state=0)\n",
        "modelsR(X_train, X_test, y_train, y_test)"
      ]
    },
    {
      "cell_type": "code",
      "execution_count": null,
      "metadata": {
        "id": "cfGvh3ASA73v",
        "outputId": "4d9cdba1-d2d6-4c5d-c9d8-7f997f1d617e",
        "trusted": true
      },
      "outputs": [
        {
          "name": "stdout",
          "output_type": "stream",
          "text": [
            "LinearRegression\n",
            "Mean Absolute Error: 0.11529043899116466\n",
            "Mean Squared Error: 0.02478783048698355\n",
            "Root Mean Squared Error: 0.1574415144966014\n",
            "R-squared Error: 0.8538851114737037\n",
            "DecisionTreeRegressor\n",
            "R-squared Error:  0.784851493464386\n",
            "SVM\n",
            "0.855191747173396\n"
          ]
        }
      ],
      "source": [
        "X_train, X_test, y_train, y_test = train_test_split(X, y, test_size=0.3,random_state=42)\n",
        "modelsR(X_train, X_test, y_train, y_test)"
      ]
    },
    {
      "cell_type": "code",
      "execution_count": null,
      "metadata": {
        "id": "YtPdDM5IA73v",
        "outputId": "7d843939-a563-4244-9e84-f3c845570d77",
        "trusted": true
      },
      "outputs": [
        {
          "name": "stdout",
          "output_type": "stream",
          "text": [
            "LinearRegression\n",
            "Mean Absolute Error: 0.11529043899116466\n",
            "Mean Squared Error: 0.02478783048698355\n",
            "Root Mean Squared Error: 0.1574415144966014\n",
            "R-squared Error: 0.8538851114737037\n",
            "DecisionTreeRegressor\n",
            "R-squared Error:  0.7650473618320013\n",
            "SVM\n",
            "0.855191747173396\n"
          ]
        },
        {
          "data": {
            "image/png": "[encoded data removed]",
            "text/plain": [
              "<Figure size 432x288 with 1 Axes>"
            ]
          },
          "metadata": {
            "needs_background": "light"
          },
          "output_type": "display_data"
        },
        {
          "data": {
            "image/png": "[encoded data removed]",
            "text/plain": [
              "<Figure size 432x288 with 1 Axes>"
            ]
          },
          "metadata": {
            "needs_background": "light"
          },
          "output_type": "display_data"
        },
        {
          "data": {
            "image/png": "[encoded data removed]",
            "text/plain": [
              "<Figure size 432x288 with 1 Axes>"
            ]
          },
          "metadata": {
            "needs_background": "light"
          },
          "output_type": "display_data"
        }
      ],
      "source": [
        "X_train, X_test, y_train, y_test = train_test_split(X, y, test_size=0.3,random_state=42)\n",
        "modelsR(X_train, X_test, y_train, y_test)"
      ]
    },
    {
      "cell_type": "markdown",
      "metadata": {
        "id": "cr8h8xIMA73v"
      },
      "source": [
        "The higest r^2 value came from the SVR at 85.52%. followed by the linear regression at 85.39% and the decision tree at 76.23%. It is quite clear the winning algorithm is the SVR, but with a 10 feature limit, it is hard to push the score higher. \n",
        "\n",
        "Also, the scatter plots above show there are outliers in the data. I believe if I were to take out the outliers, the score of these models would be higher. The plots also show how close the linear regression line and SVR are. \n",
        "\n",
        "Overall, I believe the features I chose were correct. The only improvments I would make would be to remove all outliers and include more features."
      ]
    }
  ],
  "metadata": {
    "colab": {
      "name": "cs675midterm.ipynb",
      "provenance": []
    },
    "kernelspec": {
      "display_name": "Python 3",
      "language": "python",
      "name": "python3"
    },
    "language_info": {
      "codemirror_mode": {
        "name": "ipython",
        "version": 3
      },
      "file_extension": ".py",
      "mimetype": "text/x-python",
      "name": "python",
      "nbconvert_exporter": "python",
      "pygments_lexer": "ipython3",
      "version": "3.7.6"
    }
  },
  "nbformat": 4,
  "nbformat_minor": 0
}
